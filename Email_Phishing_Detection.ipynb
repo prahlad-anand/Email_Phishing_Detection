{
  "nbformat": 4,
  "nbformat_minor": 0,
  "metadata": {
    "colab": {
      "provenance": []
    },
    "kernelspec": {
      "name": "python3",
      "display_name": "Python 3"
    },
    "language_info": {
      "name": "python"
    }
  },
  "cells": [
    {
      "cell_type": "markdown",
      "source": [
        "#Email Phishing Detection\n"
      ],
      "metadata": {
        "id": "8cnCzt6T6DbT"
      }
    },
    {
      "cell_type": "markdown",
      "source": [
        "##Imports"
      ],
      "metadata": {
        "id": "IZG8tpch6OdY"
      }
    },
    {
      "cell_type": "code",
      "source": [
        "import itertools\n",
        "import time\n",
        "import numpy as np\n",
        "import pandas as pd\n",
        "import os\n",
        "import matplotlib.pyplot as plt\n",
        "from matplotlib import pyplot\n",
        "import seaborn as sns\n",
        "\n",
        "from sklearn.model_selection import train_test_split\n",
        "from sklearn.model_selection import cross_val_score\n",
        "from sklearn.model_selection import GridSearchCV\n",
        "from sklearn.preprocessing import RobustScaler\n",
        "\n",
        "from sklearn import tree\n",
        "from sklearn.ensemble import AdaBoostClassifier\n",
        "from sklearn.neural_network import MLPClassifier\n",
        "from sklearn.neighbors import KNeighborsClassifier\n",
        "from sklearn.svm import SVC\n",
        "\n",
        "from sklearn.metrics import accuracy_score\n",
        "from sklearn.metrics import precision_score\n",
        "from sklearn.metrics import recall_score\n",
        "from sklearn.metrics import f1_score\n",
        "from sklearn.metrics import roc_curve\n",
        "from sklearn.metrics import auc\n",
        "from sklearn.metrics import confusion_matrix\n",
        "from sklearn.metrics import roc_auc_score\n",
        "\n",
        "import nltk\n",
        "from nltk.corpus import stopwords\n",
        "from sklearn.feature_extraction.text import TfidfVectorizer\n",
        "from sklearn.feature_extraction.text import CountVectorizer\n",
        "\n",
        "nltk.download('stopwords')\n",
        "\n",
        "from IPython.display import Image"
      ],
      "metadata": {
        "colab": {
          "base_uri": "https://localhost:8080/"
        },
        "id": "_3gvuKga3isV",
        "outputId": "f26bb2be-3ef4-4b8b-d7d9-ae042b6285f2"
      },
      "execution_count": null,
      "outputs": [
        {
          "output_type": "stream",
          "name": "stderr",
          "text": [
            "[nltk_data] Downloading package stopwords to /root/nltk_data...\n",
            "[nltk_data]   Package stopwords is already up-to-date!\n"
          ]
        }
      ]
    },
    {
      "cell_type": "markdown",
      "source": [
        "##Load Dataset\n",
        "\n"
      ],
      "metadata": {
        "id": "lYPUkvoq6UFV"
      }
    },
    {
      "cell_type": "code",
      "source": [
        "data_df = pd.read_csv('fraud_email_.csv')"
      ],
      "metadata": {
        "id": "NGiyFgFx3ivS"
      },
      "execution_count": null,
      "outputs": []
    },
    {
      "cell_type": "code",
      "source": [
        "data_df = data_df.dropna()\n",
        "\n",
        "data_df['Text'] = data_df['Text'].apply(lambda x: \" \".join(x.lower() for x in x.split()))\n",
        "data_df['Text'] = data_df['Text'].str.replace('[^\\w\\s]','')\n",
        "\n",
        "stop = stopwords.words('english')\n",
        "data_df['Text'] = data_df['Text'].apply(lambda x: \" \".join(x for x in x.split() if x not in stop))\n",
        "\n",
        "from sklearn.feature_extraction.text import TfidfVectorizer\n",
        "corpus = data_df['Text']\n",
        "vectorizer = TfidfVectorizer()\n",
        "X = vectorizer.fit_transform(corpus)\n",
        "\n",
        "print(X.shape)"
      ],
      "metadata": {
        "id": "pAs9Buu83izl",
        "colab": {
          "base_uri": "https://localhost:8080/"
        },
        "outputId": "148e7cbb-9f14-4cfb-b806-8f18118047cc"
      },
      "execution_count": null,
      "outputs": [
        {
          "output_type": "stream",
          "name": "stderr",
          "text": [
            "/usr/local/lib/python3.7/dist-packages/ipykernel_launcher.py:4: FutureWarning: The default value of regex will change from True to False in a future version.\n",
            "  after removing the cwd from sys.path.\n"
          ]
        },
        {
          "output_type": "stream",
          "name": "stdout",
          "text": [
            "(11928, 130424)\n"
          ]
        }
      ]
    },
    {
      "cell_type": "code",
      "source": [
        "data_df = data_df.dropna()\n",
        "\n",
        "stopset = set(stopwords.words(\"english\"))\n",
        "vectorizer = TfidfVectorizer(stop_words = stopset, norm='l2', decode_error='ignore',binary=True)\n",
        "features = vectorizer.fit_transform(data_df[\"Text\"])\n",
        "\n",
        "print(features.shape[:])\n",
        "y = data_df[\"Class\"]\n",
        "\n",
        "train_X, test_X, train_y, test_y = train_test_split(X, data_df[\"Class\"], test_size=0.5, stratify=data_df[\"Class\"])"
      ],
      "metadata": {
        "id": "ytkFiMDR6e6R",
        "colab": {
          "base_uri": "https://localhost:8080/"
        },
        "outputId": "dddffaeb-08ce-43e1-a52b-0f021d572a0f"
      },
      "execution_count": null,
      "outputs": [
        {
          "output_type": "stream",
          "name": "stdout",
          "text": [
            "(11928, 130424)\n"
          ]
        }
      ]
    },
    {
      "cell_type": "markdown",
      "source": [
        "##Exploratory Data Analysis"
      ],
      "metadata": {
        "id": "3637HEbb6h9i"
      }
    },
    {
      "cell_type": "code",
      "source": [
        "data_df.head()"
      ],
      "metadata": {
        "id": "QVa0sMWL6e8o",
        "colab": {
          "base_uri": "https://localhost:8080/",
          "height": 206
        },
        "outputId": "3af089de-5ed8-4dc5-b83a-6892a40bf915"
      },
      "execution_count": null,
      "outputs": [
        {
          "output_type": "execute_result",
          "data": {
            "text/plain": [
              "                                                Text  Class\n",
              "0  supply quality chinas exclusive dimensions unb...      1\n",
              "1                                    sidlet know thx      0\n",
              "2  dear friendgreetings youi wish accost request ...      1\n",
              "3  mr cheung puihang seng bank ltddes voeux rd br...      1\n",
              "4                      surprising assessment embassy      0"
            ],
            "text/html": [
              "\n",
              "  <div id=\"df-8d3ef0f2-69fe-4424-bec6-ab3d439e32b7\">\n",
              "    <div class=\"colab-df-container\">\n",
              "      <div>\n",
              "<style scoped>\n",
              "    .dataframe tbody tr th:only-of-type {\n",
              "        vertical-align: middle;\n",
              "    }\n",
              "\n",
              "    .dataframe tbody tr th {\n",
              "        vertical-align: top;\n",
              "    }\n",
              "\n",
              "    .dataframe thead th {\n",
              "        text-align: right;\n",
              "    }\n",
              "</style>\n",
              "<table border=\"1\" class=\"dataframe\">\n",
              "  <thead>\n",
              "    <tr style=\"text-align: right;\">\n",
              "      <th></th>\n",
              "      <th>Text</th>\n",
              "      <th>Class</th>\n",
              "    </tr>\n",
              "  </thead>\n",
              "  <tbody>\n",
              "    <tr>\n",
              "      <th>0</th>\n",
              "      <td>supply quality chinas exclusive dimensions unb...</td>\n",
              "      <td>1</td>\n",
              "    </tr>\n",
              "    <tr>\n",
              "      <th>1</th>\n",
              "      <td>sidlet know thx</td>\n",
              "      <td>0</td>\n",
              "    </tr>\n",
              "    <tr>\n",
              "      <th>2</th>\n",
              "      <td>dear friendgreetings youi wish accost request ...</td>\n",
              "      <td>1</td>\n",
              "    </tr>\n",
              "    <tr>\n",
              "      <th>3</th>\n",
              "      <td>mr cheung puihang seng bank ltddes voeux rd br...</td>\n",
              "      <td>1</td>\n",
              "    </tr>\n",
              "    <tr>\n",
              "      <th>4</th>\n",
              "      <td>surprising assessment embassy</td>\n",
              "      <td>0</td>\n",
              "    </tr>\n",
              "  </tbody>\n",
              "</table>\n",
              "</div>\n",
              "      <button class=\"colab-df-convert\" onclick=\"convertToInteractive('df-8d3ef0f2-69fe-4424-bec6-ab3d439e32b7')\"\n",
              "              title=\"Convert this dataframe to an interactive table.\"\n",
              "              style=\"display:none;\">\n",
              "        \n",
              "  <svg xmlns=\"http://www.w3.org/2000/svg\" height=\"24px\"viewBox=\"0 0 24 24\"\n",
              "       width=\"24px\">\n",
              "    <path d=\"M0 0h24v24H0V0z\" fill=\"none\"/>\n",
              "    <path d=\"M18.56 5.44l.94 2.06.94-2.06 2.06-.94-2.06-.94-.94-2.06-.94 2.06-2.06.94zm-11 1L8.5 8.5l.94-2.06 2.06-.94-2.06-.94L8.5 2.5l-.94 2.06-2.06.94zm10 10l.94 2.06.94-2.06 2.06-.94-2.06-.94-.94-2.06-.94 2.06-2.06.94z\"/><path d=\"M17.41 7.96l-1.37-1.37c-.4-.4-.92-.59-1.43-.59-.52 0-1.04.2-1.43.59L10.3 9.45l-7.72 7.72c-.78.78-.78 2.05 0 2.83L4 21.41c.39.39.9.59 1.41.59.51 0 1.02-.2 1.41-.59l7.78-7.78 2.81-2.81c.8-.78.8-2.07 0-2.86zM5.41 20L4 18.59l7.72-7.72 1.47 1.35L5.41 20z\"/>\n",
              "  </svg>\n",
              "      </button>\n",
              "      \n",
              "  <style>\n",
              "    .colab-df-container {\n",
              "      display:flex;\n",
              "      flex-wrap:wrap;\n",
              "      gap: 12px;\n",
              "    }\n",
              "\n",
              "    .colab-df-convert {\n",
              "      background-color: #E8F0FE;\n",
              "      border: none;\n",
              "      border-radius: 50%;\n",
              "      cursor: pointer;\n",
              "      display: none;\n",
              "      fill: #1967D2;\n",
              "      height: 32px;\n",
              "      padding: 0 0 0 0;\n",
              "      width: 32px;\n",
              "    }\n",
              "\n",
              "    .colab-df-convert:hover {\n",
              "      background-color: #E2EBFA;\n",
              "      box-shadow: 0px 1px 2px rgba(60, 64, 67, 0.3), 0px 1px 3px 1px rgba(60, 64, 67, 0.15);\n",
              "      fill: #174EA6;\n",
              "    }\n",
              "\n",
              "    [theme=dark] .colab-df-convert {\n",
              "      background-color: #3B4455;\n",
              "      fill: #D2E3FC;\n",
              "    }\n",
              "\n",
              "    [theme=dark] .colab-df-convert:hover {\n",
              "      background-color: #434B5C;\n",
              "      box-shadow: 0px 1px 3px 1px rgba(0, 0, 0, 0.15);\n",
              "      filter: drop-shadow(0px 1px 2px rgba(0, 0, 0, 0.3));\n",
              "      fill: #FFFFFF;\n",
              "    }\n",
              "  </style>\n",
              "\n",
              "      <script>\n",
              "        const buttonEl =\n",
              "          document.querySelector('#df-8d3ef0f2-69fe-4424-bec6-ab3d439e32b7 button.colab-df-convert');\n",
              "        buttonEl.style.display =\n",
              "          google.colab.kernel.accessAllowed ? 'block' : 'none';\n",
              "\n",
              "        async function convertToInteractive(key) {\n",
              "          const element = document.querySelector('#df-8d3ef0f2-69fe-4424-bec6-ab3d439e32b7');\n",
              "          const dataTable =\n",
              "            await google.colab.kernel.invokeFunction('convertToInteractive',\n",
              "                                                     [key], {});\n",
              "          if (!dataTable) return;\n",
              "\n",
              "          const docLinkHtml = 'Like what you see? Visit the ' +\n",
              "            '<a target=\"_blank\" href=https://colab.research.google.com/notebooks/data_table.ipynb>data table notebook</a>'\n",
              "            + ' to learn more about interactive tables.';\n",
              "          element.innerHTML = '';\n",
              "          dataTable['output_type'] = 'display_data';\n",
              "          await google.colab.output.renderOutput(dataTable, element);\n",
              "          const docLink = document.createElement('div');\n",
              "          docLink.innerHTML = docLinkHtml;\n",
              "          element.appendChild(docLink);\n",
              "        }\n",
              "      </script>\n",
              "    </div>\n",
              "  </div>\n",
              "  "
            ]
          },
          "metadata": {},
          "execution_count": 6
        }
      ]
    },
    {
      "cell_type": "code",
      "source": [
        "data_df.info()"
      ],
      "metadata": {
        "id": "l-Ko_q7h6e_z",
        "colab": {
          "base_uri": "https://localhost:8080/"
        },
        "outputId": "8295531c-1ddd-4a6e-97e1-809b1c9ff92a"
      },
      "execution_count": null,
      "outputs": [
        {
          "output_type": "stream",
          "name": "stdout",
          "text": [
            "<class 'pandas.core.frame.DataFrame'>\n",
            "Int64Index: 11928 entries, 0 to 11928\n",
            "Data columns (total 2 columns):\n",
            " #   Column  Non-Null Count  Dtype \n",
            "---  ------  --------------  ----- \n",
            " 0   Text    11928 non-null  object\n",
            " 1   Class   11928 non-null  int64 \n",
            "dtypes: int64(1), object(1)\n",
            "memory usage: 279.6+ KB\n"
          ]
        }
      ]
    },
    {
      "cell_type": "code",
      "source": [
        "data_df.describe()"
      ],
      "metadata": {
        "colab": {
          "base_uri": "https://localhost:8080/",
          "height": 300
        },
        "id": "S9Z2wQmuG9Tw",
        "outputId": "f0b01a9a-5149-4c36-8b68-e428cfc26e1a"
      },
      "execution_count": null,
      "outputs": [
        {
          "output_type": "execute_result",
          "data": {
            "text/plain": [
              "              Class\n",
              "count  11928.000000\n",
              "mean       0.434775\n",
              "std        0.495748\n",
              "min        0.000000\n",
              "25%        0.000000\n",
              "50%        0.000000\n",
              "75%        1.000000\n",
              "max        1.000000"
            ],
            "text/html": [
              "\n",
              "  <div id=\"df-d8635adb-de47-44ab-98db-fcfad656d7cb\">\n",
              "    <div class=\"colab-df-container\">\n",
              "      <div>\n",
              "<style scoped>\n",
              "    .dataframe tbody tr th:only-of-type {\n",
              "        vertical-align: middle;\n",
              "    }\n",
              "\n",
              "    .dataframe tbody tr th {\n",
              "        vertical-align: top;\n",
              "    }\n",
              "\n",
              "    .dataframe thead th {\n",
              "        text-align: right;\n",
              "    }\n",
              "</style>\n",
              "<table border=\"1\" class=\"dataframe\">\n",
              "  <thead>\n",
              "    <tr style=\"text-align: right;\">\n",
              "      <th></th>\n",
              "      <th>Class</th>\n",
              "    </tr>\n",
              "  </thead>\n",
              "  <tbody>\n",
              "    <tr>\n",
              "      <th>count</th>\n",
              "      <td>11928.000000</td>\n",
              "    </tr>\n",
              "    <tr>\n",
              "      <th>mean</th>\n",
              "      <td>0.434775</td>\n",
              "    </tr>\n",
              "    <tr>\n",
              "      <th>std</th>\n",
              "      <td>0.495748</td>\n",
              "    </tr>\n",
              "    <tr>\n",
              "      <th>min</th>\n",
              "      <td>0.000000</td>\n",
              "    </tr>\n",
              "    <tr>\n",
              "      <th>25%</th>\n",
              "      <td>0.000000</td>\n",
              "    </tr>\n",
              "    <tr>\n",
              "      <th>50%</th>\n",
              "      <td>0.000000</td>\n",
              "    </tr>\n",
              "    <tr>\n",
              "      <th>75%</th>\n",
              "      <td>1.000000</td>\n",
              "    </tr>\n",
              "    <tr>\n",
              "      <th>max</th>\n",
              "      <td>1.000000</td>\n",
              "    </tr>\n",
              "  </tbody>\n",
              "</table>\n",
              "</div>\n",
              "      <button class=\"colab-df-convert\" onclick=\"convertToInteractive('df-d8635adb-de47-44ab-98db-fcfad656d7cb')\"\n",
              "              title=\"Convert this dataframe to an interactive table.\"\n",
              "              style=\"display:none;\">\n",
              "        \n",
              "  <svg xmlns=\"http://www.w3.org/2000/svg\" height=\"24px\"viewBox=\"0 0 24 24\"\n",
              "       width=\"24px\">\n",
              "    <path d=\"M0 0h24v24H0V0z\" fill=\"none\"/>\n",
              "    <path d=\"M18.56 5.44l.94 2.06.94-2.06 2.06-.94-2.06-.94-.94-2.06-.94 2.06-2.06.94zm-11 1L8.5 8.5l.94-2.06 2.06-.94-2.06-.94L8.5 2.5l-.94 2.06-2.06.94zm10 10l.94 2.06.94-2.06 2.06-.94-2.06-.94-.94-2.06-.94 2.06-2.06.94z\"/><path d=\"M17.41 7.96l-1.37-1.37c-.4-.4-.92-.59-1.43-.59-.52 0-1.04.2-1.43.59L10.3 9.45l-7.72 7.72c-.78.78-.78 2.05 0 2.83L4 21.41c.39.39.9.59 1.41.59.51 0 1.02-.2 1.41-.59l7.78-7.78 2.81-2.81c.8-.78.8-2.07 0-2.86zM5.41 20L4 18.59l7.72-7.72 1.47 1.35L5.41 20z\"/>\n",
              "  </svg>\n",
              "      </button>\n",
              "      \n",
              "  <style>\n",
              "    .colab-df-container {\n",
              "      display:flex;\n",
              "      flex-wrap:wrap;\n",
              "      gap: 12px;\n",
              "    }\n",
              "\n",
              "    .colab-df-convert {\n",
              "      background-color: #E8F0FE;\n",
              "      border: none;\n",
              "      border-radius: 50%;\n",
              "      cursor: pointer;\n",
              "      display: none;\n",
              "      fill: #1967D2;\n",
              "      height: 32px;\n",
              "      padding: 0 0 0 0;\n",
              "      width: 32px;\n",
              "    }\n",
              "\n",
              "    .colab-df-convert:hover {\n",
              "      background-color: #E2EBFA;\n",
              "      box-shadow: 0px 1px 2px rgba(60, 64, 67, 0.3), 0px 1px 3px 1px rgba(60, 64, 67, 0.15);\n",
              "      fill: #174EA6;\n",
              "    }\n",
              "\n",
              "    [theme=dark] .colab-df-convert {\n",
              "      background-color: #3B4455;\n",
              "      fill: #D2E3FC;\n",
              "    }\n",
              "\n",
              "    [theme=dark] .colab-df-convert:hover {\n",
              "      background-color: #434B5C;\n",
              "      box-shadow: 0px 1px 3px 1px rgba(0, 0, 0, 0.15);\n",
              "      filter: drop-shadow(0px 1px 2px rgba(0, 0, 0, 0.3));\n",
              "      fill: #FFFFFF;\n",
              "    }\n",
              "  </style>\n",
              "\n",
              "      <script>\n",
              "        const buttonEl =\n",
              "          document.querySelector('#df-d8635adb-de47-44ab-98db-fcfad656d7cb button.colab-df-convert');\n",
              "        buttonEl.style.display =\n",
              "          google.colab.kernel.accessAllowed ? 'block' : 'none';\n",
              "\n",
              "        async function convertToInteractive(key) {\n",
              "          const element = document.querySelector('#df-d8635adb-de47-44ab-98db-fcfad656d7cb');\n",
              "          const dataTable =\n",
              "            await google.colab.kernel.invokeFunction('convertToInteractive',\n",
              "                                                     [key], {});\n",
              "          if (!dataTable) return;\n",
              "\n",
              "          const docLinkHtml = 'Like what you see? Visit the ' +\n",
              "            '<a target=\"_blank\" href=https://colab.research.google.com/notebooks/data_table.ipynb>data table notebook</a>'\n",
              "            + ' to learn more about interactive tables.';\n",
              "          element.innerHTML = '';\n",
              "          dataTable['output_type'] = 'display_data';\n",
              "          await google.colab.output.renderOutput(dataTable, element);\n",
              "          const docLink = document.createElement('div');\n",
              "          docLink.innerHTML = docLinkHtml;\n",
              "          element.appendChild(docLink);\n",
              "        }\n",
              "      </script>\n",
              "    </div>\n",
              "  </div>\n",
              "  "
            ]
          },
          "metadata": {},
          "execution_count": 10
        }
      ]
    },
    {
      "cell_type": "markdown",
      "source": [
        "##Decision Tree"
      ],
      "metadata": {
        "id": "TDQUk3lm6mU1"
      }
    },
    {
      "cell_type": "code",
      "source": [
        "max_depth = 15\n",
        "\n",
        "tree_auc_train, tree_auc_test = np.zeros(max_depth), np.zeros(max_depth)\n",
        "\n",
        "for i in range(1,max_depth):\n",
        "    clf_decision_tree = tree.DecisionTreeClassifier(max_depth=i, criterion='entropy',random_state=1)\n",
        "    clf_decision_tree = clf_decision_tree.fit(train_X, train_y)\n",
        "\n",
        "    tree_auc_train[i] = roc_auc_score(train_y, clf_decision_tree.predict_proba(train_X)[:,1])\n",
        "    tree_auc_test[i] = roc_auc_score(test_y, clf_decision_tree.predict_proba(test_X)[:,1])"
      ],
      "metadata": {
        "id": "Kc8C3os7653J"
      },
      "execution_count": null,
      "outputs": []
    },
    {
      "cell_type": "code",
      "source": [
        "from matplotlib import pyplot\n",
        "pyplot.plot(tree_auc_train, linewidth=3, label = \"Decision tree train AUC\")\n",
        "pyplot.plot(tree_auc_test, linewidth=3, label = \"Decision tree test AUC\")\n",
        "pyplot.legend()\n",
        "\n",
        "pyplot.title(\"Phishing Dataset Decision Tree - AUC vs. Depth\")\n",
        "pyplot.xlabel(\"Max_depth\")\n",
        "pyplot.ylabel(\"Validation auc\")\n",
        "pyplot.show()"
      ],
      "metadata": {
        "id": "KhC87icn655o",
        "colab": {
          "base_uri": "https://localhost:8080/",
          "height": 313
        },
        "outputId": "e89cbc7d-fa3d-4436-cf5a-f6978c85f798"
      },
      "execution_count": null,
      "outputs": [
        {
          "output_type": "display_data",
          "data": {
            "text/plain": [
              "<Figure size 432x288 with 1 Axes>"
            ],
            "image/png": "[encoded data removed]"
          },
          "metadata": {
            "needs_background": "light"
          }
        },
        {
          "output_type": "display_data",
          "data": {
            "text/plain": [
              "<Figure size 720x720 with 0 Axes>"
            ]
          },
          "metadata": {}
        }
      ]
    },
    {
      "cell_type": "code",
      "source": [
        "print(\"Best tree depth training: \" + str(np.argmax(tree_auc_train, axis=0)))\n",
        "print(\"Highest AUC score training: \" + str(np.max(tree_auc_train, axis=0)))\n",
        "print(\"Best tree depth testing: \" + str(np.argmax(tree_auc_test, axis=0)))\n",
        "print(\"Highest AUC score testing: \" +  str(np.max(tree_auc_test, axis=0)))"
      ],
      "metadata": {
        "id": "ED9w5xO665-i",
        "colab": {
          "base_uri": "https://localhost:8080/"
        },
        "outputId": "b993f3c0-7b3d-41a5-ed2f-5e8571e7c4df"
      },
      "execution_count": null,
      "outputs": [
        {
          "output_type": "stream",
          "name": "stdout",
          "text": [
            "Best tree depth training: 14\n",
            "Highest AUC score training: 0.954856382042198\n",
            "Best tree depth testing: 13\n",
            "Highest AUC score testing: 0.9374528872716325\n"
          ]
        }
      ]
    },
    {
      "cell_type": "markdown",
      "source": [
        "##Decision Tree with Pruning"
      ],
      "metadata": {
        "id": "94cqVT836rKb"
      }
    },
    {
      "cell_type": "code",
      "source": [
        "from sklearn.tree._tree import TREE_LEAF\n",
        "\n",
        "def is_leaf(inner_tree, index):\n",
        "\n",
        "    return (inner_tree.children_left[index] == TREE_LEAF and \n",
        "            inner_tree.children_right[index] == TREE_LEAF)\n",
        "\n",
        "def prune_index(inner_tree, decisions, index=0):\n",
        "    # Start pruning from the bottom \n",
        "    if not is_leaf(inner_tree, inner_tree.children_left[index]):\n",
        "        prune_index(inner_tree, decisions, inner_tree.children_left[index])\n",
        "    if not is_leaf(inner_tree, inner_tree.children_right[index]):\n",
        "        prune_index(inner_tree, decisions, inner_tree.children_right[index])\n",
        "\n",
        "    # Prune children if both are leaves     \n",
        "    if (is_leaf(inner_tree, inner_tree.children_left[index]) and\n",
        "        is_leaf(inner_tree, inner_tree.children_right[index]) and\n",
        "        (decisions[index] == decisions[inner_tree.children_left[index]]) and \n",
        "        (decisions[index] == decisions[inner_tree.children_right[index]])):\n",
        "        # turn node into a leaf \n",
        "        inner_tree.children_left[index] = TREE_LEAF\n",
        "        inner_tree.children_right[index] = TREE_LEAF\n",
        "        print(\"Pruned {}\".format(index))\n",
        "\n",
        "def prune_duplicate_leaves(mdl):\n",
        "\n",
        "    decisions = mdl.tree_.value.argmax(axis=2).flatten().tolist() # Decision for each node\n",
        "    prune_index(mdl.tree_, decisions)\n",
        "\n"
      ],
      "metadata": {
        "id": "dHjQDRVP7r9B"
      },
      "execution_count": null,
      "outputs": []
    },
    {
      "cell_type": "code",
      "source": [
        "clf_decision_tree = tree.DecisionTreeClassifier(max_depth=i, criterion='entropy',random_state=1)\n",
        "clf_decision_tree = clf_decision_tree.fit(train_X, train_y)\n",
        "prune_duplicate_leaves(clf_decision_tree)\n",
        "    \n",
        "tree_auc_train_pruned = roc_auc_score(train_y, clf_decision_tree.predict_proba(train_X)[:,1])\n",
        "tree_auc_test_pruned = roc_auc_score(test_y, clf_decision_tree.predict_proba(test_X)[:,1])\n",
        "\n",
        "print(\"pruned decision tree training: \" + str(tree_auc_train_pruned))\n",
        "print(\"pruned decision tree testing: \" + str(tree_auc_test_pruned))"
      ],
      "metadata": {
        "colab": {
          "base_uri": "https://localhost:8080/"
        },
        "id": "QiOhlu_jM4x1",
        "outputId": "efd404be-1951-4d4a-d1ce-f6f5cdb37db5"
      },
      "execution_count": null,
      "outputs": [
        {
          "output_type": "stream",
          "name": "stdout",
          "text": [
            "Pruned 18\n",
            "Pruned 17\n",
            "Pruned 16\n",
            "pruned decision tree training: 0.9588968222525494\n",
            "pruned decision tree testing: 0.9394205104379898\n"
          ]
        }
      ]
    },
    {
      "cell_type": "code",
      "source": [
        "from sklearn.model_selection import learning_curve\n",
        "\n",
        "\n",
        "def plot_learning_curve(estimator, title, X, y, ylim=None, cv=None,\n",
        "                        n_jobs=None, train_sizes=np.linspace(.1, 1.0, 5)):\n",
        "\n",
        "    plt.figure()\n",
        "    plt.title(title)\n",
        "    if ylim is not None:\n",
        "        plt.ylim(*ylim)\n",
        "    plt.xlabel(\"Training examples\")\n",
        "    plt.ylabel(\"Score\")\n",
        "    train_sizes, train_scores, test_scores = learning_curve(estimator, X, y, cv=cv, n_jobs=n_jobs, train_sizes=train_sizes, scoring='roc_auc')\n",
        "    train_scores_mean = np.mean(train_scores, axis=1)\n",
        "    train_scores_std = np.std(train_scores, axis=1)\n",
        "    test_scores_mean = np.mean(test_scores, axis=1)\n",
        "    test_scores_std = np.std(test_scores, axis=1)\n",
        "    plt.fill_between(train_sizes, train_scores_mean - train_scores_std,\n",
        "                     train_scores_mean + train_scores_std, alpha=0.1,\n",
        "                     color=\"r\")\n",
        "    plt.fill_between(train_sizes, test_scores_mean - test_scores_std,\n",
        "                     test_scores_mean + test_scores_std, alpha=0.1, color=\"g\")\n",
        "    plt.plot(train_sizes, train_scores_mean, 'o-', color=\"r\",\n",
        "             label=\"Training score\")\n",
        "    plt.plot(train_sizes, test_scores_mean, 'o-', color=\"g\",\n",
        "             label=\"Cross-validation score\")\n",
        " \n",
        "    plt.legend(loc=\"best\")\n",
        "    return plt\n"
      ],
      "metadata": {
        "id": "tj6Loq_f7sAq"
      },
      "execution_count": null,
      "outputs": []
    },
    {
      "cell_type": "code",
      "source": [
        "X, y = train_X, train_y\n",
        "\n",
        "title = \"Phishing Dataset Learning Curves (Decision Tree)\"\n",
        "estimator = tree.DecisionTreeClassifier(max_depth=9, criterion='entropy',random_state=1)\n",
        "plot_learning_curve(estimator, title, X, y, cv=None, n_jobs=-1)\n",
        "\n",
        "plt.show()"
      ],
      "metadata": {
        "colab": {
          "base_uri": "https://localhost:8080/",
          "height": 295
        },
        "id": "-bThoAbdMW0q",
        "outputId": "9e03c2cc-79e0-4070-9aa5-f68b433a7b6f"
      },
      "execution_count": null,
      "outputs": [
        {
          "output_type": "display_data",
          "data": {
            "text/plain": [
              "<Figure size 432x288 with 1 Axes>"
            ],
            "image/png": "[encoded data removed]"
          },
          "metadata": {
            "needs_background": "light"
          }
        }
      ]
    },
    {
      "cell_type": "markdown",
      "source": [
        "##Decision Tree with Boosting"
      ],
      "metadata": {
        "id": "ACIdO1jC6u1h"
      }
    },
    {
      "cell_type": "code",
      "source": [
        "max_depth = 15\n",
        "\n",
        "adaboost_auc_train, adaboost_auc_test = np.zeros(max_depth), np.zeros(max_depth)\n",
        "\n",
        "for i in range(1,max_depth):\n",
        "    clf_adaboost = AdaBoostClassifier(base_estimator=tree.DecisionTreeClassifier(max_depth=i,criterion='entropy'), n_estimators=10, random_state=1)\n",
        "    clf_adaboost = clf_adaboost.fit(train_X, train_y)\n",
        "\n",
        "    adaboost_auc_train[i] = roc_auc_score(train_y, clf_adaboost.predict_proba(train_X)[:,1])\n",
        "    adaboost_auc_test[i] = roc_auc_score(test_y, clf_adaboost.predict_proba(test_X)[:,1])"
      ],
      "metadata": {
        "id": "JEHUpS_v8GxB"
      },
      "execution_count": null,
      "outputs": []
    },
    {
      "cell_type": "code",
      "source": [
        "pyplot.plot(adaboost_auc_train, linewidth=3, label = \"Adaboost train AUC\")\n",
        "pyplot.plot(adaboost_auc_test, linewidth=3, label = \"Adaboost test AUC\")\n",
        "pyplot.legend()\n",
        "pyplot.ylim(0.9, 1.0)\n",
        "pyplot.xlabel(\"Max Depth of Weak Learners\")\n",
        "pyplot.ylabel(\"Validation AUC\")\n",
        "plt.title(\"Phishing Dataset Adaboost - AUC vs. Weak Learner Depth\")\n",
        "pyplot.figure(figsize=(16,8))\n",
        "pyplot.savefig('Phishing_boosting_fig4')\n",
        "pyplot.show()"
      ],
      "metadata": {
        "id": "C385ZOfC8ccz",
        "colab": {
          "base_uri": "https://localhost:8080/",
          "height": 312
        },
        "outputId": "555c61d6-5326-4de5-e1c9-f22afec651dd"
      },
      "execution_count": null,
      "outputs": [
        {
          "output_type": "display_data",
          "data": {
            "text/plain": [
              "<Figure size 432x288 with 1 Axes>"
            ],
            "image/png": "[encoded data removed]"
          },
          "metadata": {
            "needs_background": "light"
          }
        },
        {
          "output_type": "display_data",
          "data": {
            "text/plain": [
              "<Figure size 1152x576 with 0 Axes>"
            ]
          },
          "metadata": {}
        }
      ]
    },
    {
      "cell_type": "code",
      "source": [
        "print(\"Best weak learner tree depth training: \" + str(np.argmax(adaboost_auc_train, axis=0)))\n",
        "print(\"Highest AUC score training: \" + str(np.max(adaboost_auc_train, axis=0)))\n",
        "print(\"Best weak learner tree depth testing: \" + str(np.argmax(adaboost_auc_test, axis=0)))\n",
        "print(\"Highest AUC score testing: \" +  str(np.max(adaboost_auc_test, axis=0)))"
      ],
      "metadata": {
        "id": "5ho3D40Y8cfO",
        "colab": {
          "base_uri": "https://localhost:8080/"
        },
        "outputId": "e11faaf4-2259-43cf-a9fc-9a3debd1e2a3"
      },
      "execution_count": null,
      "outputs": [
        {
          "output_type": "stream",
          "name": "stdout",
          "text": [
            "Best weak learner tree depth training: 14\n",
            "Highest AUC score training: 0.9983333720397991\n",
            "Best weak learner tree depth testing: 13\n",
            "Highest AUC score testing: 0.9890661861115938\n"
          ]
        }
      ]
    },
    {
      "cell_type": "code",
      "source": [
        "def plot_learning_curve(estimator, title, X, y, ylim=None, cv=None,\n",
        "                        n_jobs=None, train_sizes=np.linspace(.1, 1.0, 5)):\n",
        "\n",
        "    plt.figure()\n",
        "    plt.title(title)\n",
        "    if ylim is not None:\n",
        "        plt.ylim(*ylim)\n",
        "    plt.xlabel(\"Training examples\")\n",
        "    plt.ylabel(\"Score\")\n",
        "\n",
        "    train_sizes, train_scores, test_scores = learning_curve(estimator, X, y, cv=cv, n_jobs=n_jobs, train_sizes=train_sizes, scoring='roc_auc')\n",
        "    train_scores_mean = np.mean(train_scores, axis=1)\n",
        "    train_scores_std = np.std(train_scores, axis=1)\n",
        "    test_scores_mean = np.mean(test_scores, axis=1)\n",
        "    test_scores_std = np.std(test_scores, axis=1)\n",
        " \n",
        "    plt.fill_between(train_sizes, train_scores_mean - train_scores_std,\n",
        "                     train_scores_mean + train_scores_std, alpha=0.1,\n",
        "                     color=\"r\")\n",
        "    plt.fill_between(train_sizes, test_scores_mean - test_scores_std,\n",
        "                     test_scores_mean + test_scores_std, alpha=0.1, color=\"g\")\n",
        "    plt.plot(train_sizes, train_scores_mean, 'o-', color=\"r\",\n",
        "             label=\"Training score\")\n",
        "    plt.plot(train_sizes, test_scores_mean, 'o-', color=\"g\",\n",
        "             label=\"Cross-validation score\")\n",
        "\n",
        "    plt.legend(loc=\"best\")\n",
        "    return plt"
      ],
      "metadata": {
        "id": "nn5HwpaW8rha"
      },
      "execution_count": null,
      "outputs": []
    },
    {
      "cell_type": "code",
      "source": [
        "title = \"Phishing Dataset Learning Curves (Adaboost)\"\n",
        "estimator = AdaBoostClassifier(base_estimator=tree.DecisionTreeClassifier(max_depth=4,criterion='entropy', random_state=1), n_estimators=10,random_state=1)\n",
        "plot_learning_curve(estimator, title, X, y, cv=None, n_jobs=-1)\n",
        "\n",
        "plt.show()"
      ],
      "metadata": {
        "colab": {
          "base_uri": "https://localhost:8080/",
          "height": 295
        },
        "id": "8JNf4AM8MITx",
        "outputId": "dbeee817-a228-4d0c-8a66-acef7fa8de36"
      },
      "execution_count": null,
      "outputs": [
        {
          "output_type": "display_data",
          "data": {
            "text/plain": [
              "<Figure size 432x288 with 1 Axes>"
            ],
            "image/png": "[encoded data removed]"
          },
          "metadata": {
            "needs_background": "light"
          }
        }
      ]
    },
    {
      "cell_type": "markdown",
      "source": [
        "##K-Nearest Neighbours"
      ],
      "metadata": {
        "id": "o4alJG5j6xfw"
      }
    },
    {
      "cell_type": "code",
      "source": [
        "max_k = 20\n",
        "knn_auc_train, knn_auc_test = np.zeros(max_k), np.zeros(max_k)\n",
        "training_time, prediction_time = np.zeros(max_k), np.zeros(max_k)\n",
        "for i in range(1,max_k):\n",
        "    clf_knn = KNeighborsClassifier(n_neighbors=i, algorithm='auto', leaf_size=30, metric='minkowski',\n",
        "           metric_params=None, n_jobs=-1, p=2, weights='uniform')\n",
        "    \n",
        "    clf_knn = clf_knn.fit(train_X, train_y)\n",
        "\n",
        "    pred_train = clf_knn.predict_proba(train_X)[:,1]\n",
        "    pred_test = clf_knn.predict_proba(test_X)[:,1]\n",
        "\n",
        "    knn_auc_train[i] = roc_auc_score(train_y, pred_train)\n",
        "    knn_auc_test[i] = roc_auc_score(test_y, pred_test)"
      ],
      "metadata": {
        "id": "yBnftEgT8yDi"
      },
      "execution_count": null,
      "outputs": []
    },
    {
      "cell_type": "code",
      "source": [
        "pyplot.plot(knn_auc_train, linewidth=3, label = \"KNN train AUC\")\n",
        "pyplot.plot(knn_auc_test, linewidth=3, label = \"KNN test AUC\")\n",
        "pyplot.legend()\n",
        "pyplot.xlabel(\"K Nearest Neighbors - Euclidean\")\n",
        "pyplot.ylabel(\"Validation AUC\")\n",
        "pyplot.title(\"Phishing Dataset K-NN - AUC vs. Number of Neighors K\")\n",
        "pyplot.show()"
      ],
      "metadata": {
        "id": "SCX1uBUG8yFy",
        "colab": {
          "base_uri": "https://localhost:8080/",
          "height": 295
        },
        "outputId": "9f2dda2c-e3ce-4844-d472-eb89b4f38bd7"
      },
      "execution_count": null,
      "outputs": [
        {
          "output_type": "display_data",
          "data": {
            "text/plain": [
              "<Figure size 432x288 with 1 Axes>"
            ],
            "image/png": "[encoded data removed]"
          },
          "metadata": {
            "needs_background": "light"
          }
        }
      ]
    },
    {
      "cell_type": "code",
      "source": [
        "print(\"Best number of neighbors training: \" + str(np.argmax(knn_auc_train, axis=0)))\n",
        "print(\"Highest AUC score training: \" + str(np.max(knn_auc_train, axis=0)))\n",
        "print(\"Best number of neighbors testing: \" + str(np.argmax(knn_auc_test, axis=0)))\n",
        "print(\"Highest AUC score testing: \" +  str(np.max(knn_auc_test, axis=0)))"
      ],
      "metadata": {
        "id": "beKfcFst8yIc",
        "colab": {
          "base_uri": "https://localhost:8080/"
        },
        "outputId": "00ad09c0-7df0-46da-8347-e6becc863094"
      },
      "execution_count": null,
      "outputs": [
        {
          "output_type": "stream",
          "name": "stdout",
          "text": [
            "Best number of neighbors training: 1\n",
            "Highest AUC score training: 0.9998071731585036\n",
            "Best number of neighbors testing: 4\n",
            "Highest AUC score testing: 0.7694433922514383\n"
          ]
        }
      ]
    },
    {
      "cell_type": "code",
      "source": [
        "def plot_learning_curve(estimator, title, X, y, ylim=None, cv=None,\n",
        "                        n_jobs=None, train_sizes=np.linspace(.1, 1.0, 5)):\n",
        "\n",
        "    plt.figure()\n",
        "    plt.title(title)\n",
        "    if ylim is not None:\n",
        "        plt.ylim(*ylim)\n",
        "    plt.xlabel(\"Training examples\")\n",
        "    plt.ylabel(\"Score\")\n",
        "\n",
        "    train_sizes, train_scores, test_scores = learning_curve(estimator, X, y, cv=cv, n_jobs=n_jobs, train_sizes=train_sizes, scoring='roc_auc')\n",
        "    train_scores_mean = np.mean(train_scores, axis=1)\n",
        "    train_scores_std = np.std(train_scores, axis=1)\n",
        "    test_scores_mean = np.mean(test_scores, axis=1)\n",
        "    test_scores_std = np.std(test_scores, axis=1)\n",
        "\n",
        "    plt.fill_between(train_sizes, train_scores_mean - train_scores_std,\n",
        "                     train_scores_mean + train_scores_std, \"o-\", \n",
        "                     alpha=0.1, \n",
        "                     color=\"r\", \n",
        "                     )\n",
        "    plt.fill_between(train_sizes, test_scores_mean - test_scores_std, \"o-\",\n",
        "                     test_scores_mean + test_scores_std,alpha=0.1, color=\"g\", \n",
        "                     )\n",
        "    plt.plot(train_sizes, train_scores_mean, 'o-', color=\"r\", label=\"Training score\")\n",
        "    plt.plot(train_sizes, test_scores_mean, 'o-', color=\"g\", label=\"Cross-validation score\")\n",
        "\n",
        "    plt.legend(loc=\"best\")\n",
        "    return plt\n",
        "  \n"
      ],
      "metadata": {
        "id": "hAv9c88-886C"
      },
      "execution_count": null,
      "outputs": []
    },
    {
      "cell_type": "code",
      "source": [
        "title = \"Phishing Dataset Learning Curves (K-NN)\"\n",
        "estimator = KNeighborsClassifier(n_neighbors=1, algorithm='auto', leaf_size=30, metric='minkowski',\n",
        "           metric_params=None, n_jobs=-1, p=2, weights='uniform')\n",
        "plot_learning_curve(estimator, title, X, y, cv=None, n_jobs=-1)\n",
        "plt.show()"
      ],
      "metadata": {
        "colab": {
          "base_uri": "https://localhost:8080/",
          "height": 332
        },
        "id": "2sx0-99oMLRL",
        "outputId": "7a37e1ca-1b94-4f73-985b-cb0ca8423a05"
      },
      "execution_count": null,
      "outputs": [
        {
          "output_type": "stream",
          "name": "stderr",
          "text": [
            "/usr/local/lib/python3.7/dist-packages/ipykernel_launcher.py:23: MatplotlibDeprecationWarning: The parameter where must have the same size as x in fill_between(). This will become an error in future versions of Matplotlib.\n"
          ]
        },
        {
          "output_type": "display_data",
          "data": {
            "text/plain": [
              "<Figure size 432x288 with 1 Axes>"
            ],
            "image/png": "[encoded data removed]"
          },
          "metadata": {
            "needs_background": "light"
          }
        }
      ]
    },
    {
      "cell_type": "markdown",
      "source": [
        "##Support Vector Machine"
      ],
      "metadata": {
        "id": "2YM6B5X9ZtW5"
      }
    },
    {
      "cell_type": "code",
      "source": [
        "clf_svm_linear = SVC(kernel='linear',probability=True, random_state=1)\n",
        "\n",
        "clf_svm_linear.fit(train_X, train_y)\n",
        "\n",
        "pred_train_linear = clf_svm_linear.predict_proba(train_X)[:,1]\n",
        "pred_test_linear = clf_svm_linear.predict_proba(test_X)[:,1]\n",
        "\n",
        "svm_auc_train_linear = roc_auc_score(train_y, pred_train_linear)\n",
        "svm_auc_test_linear = roc_auc_score(test_y, pred_test_linear)\n",
        "\n",
        "clf_svm_rbf = SVC(kernel='poly',probability=True, random_state=1)\n",
        "\n",
        "clf_svm_rbf.fit(train_X, train_y)\n",
        "\n",
        "pred_train_rbf = clf_svm_rbf.predict_proba(train_X)[:,1]\n",
        "pred_test_rbf = clf_svm_rbf.predict_proba(test_X)[:,1]\n",
        "\n",
        "svm_auc_train_rbf = roc_auc_score(train_y, pred_train_rbf)\n",
        "svm_auc_test_rbf = roc_auc_score(test_y, pred_test_rbf)"
      ],
      "metadata": {
        "id": "cyg9mjsmZssO"
      },
      "execution_count": null,
      "outputs": []
    },
    {
      "cell_type": "code",
      "source": [
        "print(\"Linear kernel training AUC: \" + str(svm_auc_train_linear))\n",
        "print(\"Linear kernel testing AUC: \" + str(svm_auc_test_linear))\n",
        "print(\"Poly kernel training AUC: \" + str(svm_auc_train_rbf))\n",
        "print(\"Poly kernel testing AUC: \" + str(svm_auc_test_rbf))"
      ],
      "metadata": {
        "colab": {
          "base_uri": "https://localhost:8080/"
        },
        "id": "C3ZEqHt6aBKD",
        "outputId": "313c2b06-2cc7-4741-fb97-37be5dc929a7"
      },
      "execution_count": null,
      "outputs": [
        {
          "output_type": "stream",
          "name": "stdout",
          "text": [
            "Linear kernel training AUC: 0.9999954810677905\n",
            "Linear kernel testing AUC: 0.9975125852262035\n",
            "Poly kernel training AUC: 0.9999966251012613\n",
            "Poly kernel testing AUC: 0.997921634393673\n"
          ]
        }
      ]
    },
    {
      "cell_type": "code",
      "source": [
        "def plot_learning_curve(estimator, title, X, y, ylim=None, cv=None,\n",
        "                        n_jobs=None, train_sizes=np.linspace(.1, 1.0, 5)):\n",
        "\n",
        "    plt.figure()\n",
        "    plt.title(title)\n",
        "    if ylim is not None:\n",
        "        plt.ylim(*ylim)\n",
        "    plt.xlabel(\"Training examples\")\n",
        "    plt.ylabel(\"Score\")\n",
        "\n",
        "    train_sizes, train_scores, test_scores = learning_curve(estimator, X, y, cv=cv, n_jobs=n_jobs, train_sizes=train_sizes, scoring='roc_auc')\n",
        "    train_scores_mean = np.mean(train_scores, axis=1)\n",
        "    train_scores_std = np.std(train_scores, axis=1)\n",
        "    test_scores_mean = np.mean(test_scores, axis=1)\n",
        "    test_scores_std = np.std(test_scores, axis=1)\n",
        "\n",
        "\n",
        "    plt.fill_between(train_sizes, train_scores_mean - train_scores_std,\n",
        "                     train_scores_mean + train_scores_std, alpha=0.1,\n",
        "                     color=\"r\")\n",
        "    plt.fill_between(train_sizes, test_scores_mean - test_scores_std,\n",
        "                     test_scores_mean + test_scores_std, alpha=0.1, color=\"g\")\n",
        "    plt.plot(train_sizes, train_scores_mean, 'o-', color=\"r\",\n",
        "             label=\"Training score\")\n",
        "    plt.plot(train_sizes, test_scores_mean, 'o-', color=\"g\",\n",
        "             label=\"Cross-validation score\")\n",
        "\n",
        "    plt.legend(loc=\"best\")\n",
        "    return plt"
      ],
      "metadata": {
        "id": "Vm4-fNA3aGOa"
      },
      "execution_count": null,
      "outputs": []
    },
    {
      "cell_type": "code",
      "source": [
        "title = \"Phishing Dataset Learning Curves (SVM)\"\n",
        "estimator = SVC(kernel='linear',probability=True, random_state=1)\n",
        "plot_learning_curve(estimator, title, X, y, cv=None, n_jobs=-1)\n",
        "\n",
        "plt.show()"
      ],
      "metadata": {
        "colab": {
          "base_uri": "https://localhost:8080/",
          "height": 295
        },
        "id": "KZs6d5yjaGZZ",
        "outputId": "22cd34b9-851d-4240-dc69-a96e5fad8acd"
      },
      "execution_count": null,
      "outputs": [
        {
          "output_type": "display_data",
          "data": {
            "text/plain": [
              "<Figure size 432x288 with 1 Axes>"
            ],
            "image/png": "[encoded data removed]"
          },
          "metadata": {
            "needs_background": "light"
          }
        }
      ]
    }
  ]
}